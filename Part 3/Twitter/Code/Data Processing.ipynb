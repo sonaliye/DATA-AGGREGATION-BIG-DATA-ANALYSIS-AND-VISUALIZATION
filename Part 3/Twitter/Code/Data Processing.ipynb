{
 "cells": [
  {
   "cell_type": "code",
   "execution_count": 2,
   "metadata": {},
   "outputs": [
    {
     "name": "stdout",
     "output_type": "stream",
     "text": [
      "showing info https://raw.githubusercontent.com/nltk/nltk_data/gh-pages/index.xml\n",
      "Here\n",
      "Here\n"
     ]
    }
   ],
   "source": [
    "import csv\n",
    "import re\n",
    "tweets = []\n",
    "from nltk.corpus import stopwords\n",
    "import nltk\n",
    "nltk.download()\n",
    "words = set(nltk.corpus.words.words())\n",
    " \n",
    "'''with open('CambridgeAnalytica_tweets.csv', encoding=\"utf-8\") as csvDataFile:\n",
    "    csvReader = csv.reader(csvDataFile)\n",
    "    for row in csvReader:\n",
    "        print(row[0])'''\n",
    "        \n",
    "f = open('nydata.txt',\"r\",encoding='utf8')\n",
    "#f = open('zuckerberg_tweets.txt', \"r\")\n",
    "#f = open('trump_tweets.txt', \"r\")\n",
    "\n",
    "lines = f.readlines()\n",
    "\n",
    "tweets = ''\n",
    "\n",
    "for line in lines:\n",
    "    tweets += '\\n' +' '.join(w for w in nltk.wordpunct_tokenize(line) if w.lower() in words or not w.isalpha())\n",
    "\n",
    "cambridge_tweets = ''\n",
    "for line in tweets:\n",
    "    cambridge_tweets += re.sub('[^a-zA-Z\\n]', ' ', str(line))\n",
    "print('Here')\n",
    "    \n",
    "cambridge_tweets = cambridge_tweets.lower()\n",
    "stop_words = set(stopwords.words('english'))\n",
    "words = cambridge_tweets.split()\n",
    "for r in words:\n",
    "    if not r in stop_words:\n",
    "        appendFile = open('nydata_processed.txt','a')\n",
    "        #appendFile = open('zuckerberg_tweets_processed.txt','a')\n",
    "        #appendFile = open('trump_tweets_processed.txt','a')\n",
    "        appendFile.write(\" \"+r)\n",
    "        appendFile.close()\n",
    "print('Here')"
   ]
  }
 ],
 "metadata": {
  "kernelspec": {
   "display_name": "Python 3",
   "language": "python",
   "name": "python3"
  },
  "language_info": {
   "codemirror_mode": {
    "name": "ipython",
    "version": 3
   },
   "file_extension": ".py",
   "mimetype": "text/x-python",
   "name": "python",
   "nbconvert_exporter": "python",
   "pygments_lexer": "ipython3",
   "version": "3.7.1"
  }
 },
 "nbformat": 4,
 "nbformat_minor": 2
}
