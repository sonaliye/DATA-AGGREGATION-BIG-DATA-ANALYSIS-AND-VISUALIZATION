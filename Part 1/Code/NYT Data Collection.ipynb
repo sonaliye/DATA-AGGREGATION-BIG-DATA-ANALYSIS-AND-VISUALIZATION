{
 "cells": [
  {
   "cell_type": "code",
   "execution_count": 1,
   "metadata": {},
   "outputs": [
    {
     "name": "stdout",
     "output_type": "stream",
     "text": [
      "Requirement already satisfied: nytimesarticle in c:\\users\\sonali\\anaconda3\\lib\\site-packages (0.1.0)\n",
      "Requirement already satisfied: requests>=2.1.0 in c:\\users\\sonali\\anaconda3\\lib\\site-packages (from nytimesarticle) (2.21.0)\n",
      "Requirement already satisfied: certifi>=2017.4.17 in c:\\users\\sonali\\anaconda3\\lib\\site-packages (from requests>=2.1.0->nytimesarticle) (2018.11.29)\n",
      "Requirement already satisfied: chardet<3.1.0,>=3.0.2 in c:\\users\\sonali\\anaconda3\\lib\\site-packages (from requests>=2.1.0->nytimesarticle) (3.0.4)\n",
      "Requirement already satisfied: idna<2.9,>=2.5 in c:\\users\\sonali\\anaconda3\\lib\\site-packages (from requests>=2.1.0->nytimesarticle) (2.8)\n",
      "Requirement already satisfied: urllib3<1.25,>=1.21.1 in c:\\users\\sonali\\anaconda3\\lib\\site-packages (from requests>=2.1.0->nytimesarticle) (1.24.1)\n",
      "Requirement already satisfied: requests in c:\\users\\sonali\\anaconda3\\lib\\site-packages (2.21.0)\n",
      "Requirement already satisfied: chardet<3.1.0,>=3.0.2 in c:\\users\\sonali\\anaconda3\\lib\\site-packages (from requests) (3.0.4)\n",
      "Requirement already satisfied: urllib3<1.25,>=1.21.1 in c:\\users\\sonali\\anaconda3\\lib\\site-packages (from requests) (1.24.1)\n",
      "Requirement already satisfied: idna<2.9,>=2.5 in c:\\users\\sonali\\anaconda3\\lib\\site-packages (from requests) (2.8)\n",
      "Requirement already satisfied: certifi>=2017.4.17 in c:\\users\\sonali\\anaconda3\\lib\\site-packages (from requests) (2018.11.29)\n"
     ]
    }
   ],
   "source": [
    "#import sys\n",
    "import sys\n",
    "!{sys.executable} -m pip install nytimesarticle\n",
    "!{sys.executable} -m pip install requests\n",
    "\n",
    "#python -m pip install nytimesarticle\n",
    "#python -m pip install requests"
   ]
  },
  {
   "cell_type": "code",
   "execution_count": 1,
   "metadata": {},
   "outputs": [
    {
     "data": {
      "text/plain": [
       "'C:\\\\Users\\\\Sonali\\\\Desktop'"
      ]
     },
     "execution_count": 1,
     "metadata": {},
     "output_type": "execute_result"
    }
   ],
   "source": [
    "import os\n",
    "\n",
    "os.getcwd( )\n",
    "\n",
    "os.chdir('C:/Users/Sonali/Desktop/') \n",
    "\n",
    "os.getcwd( )"
   ]
  },
  {
   "cell_type": "code",
   "execution_count": 2,
   "metadata": {},
   "outputs": [],
   "source": [
    "from nytimesarticle import articleAPI\n",
    "api = articleAPI('nXUvx96o1kOa0U9a5YQY6J7aGgp2cb75')"
   ]
  },
  {
   "cell_type": "code",
   "execution_count": 3,
   "metadata": {},
   "outputs": [],
   "source": [
    "#subTopics = ['NBA', 'NCAA', 'golf','pga tour', 'cricket', 'ipl' , 'tennis','ATP','WTA','ufc']\n",
    "subTopics = ['basketball','golf','cricket','football','badminton','tennis']"
   ]
  },
  {
   "cell_type": "code",
   "execution_count": 4,
   "metadata": {},
   "outputs": [
    {
     "name": "stdout",
     "output_type": "stream",
     "text": [
      "basketball\n",
      "golf\n",
      "cricket\n",
      "football\n",
      "badminton\n",
      "tennis\n"
     ]
    }
   ],
   "source": [
    "articles = []\n",
    "for subtopic in subTopics:\n",
    "    print(subtopic)\n",
    "    for i in range(1,101):\n",
    "        articles.append(api.search( q = subtopic,page = i, begin_date = 20190401))"
   ]
  },
  {
   "cell_type": "code",
   "execution_count": 5,
   "metadata": {},
   "outputs": [],
   "source": [
    "with open(\"url.txt\", \"a\") as myfile:\n",
    "    for x in articles:\n",
    "        if 'response' in x.keys():\n",
    "            for j in x['response']['docs']:\n",
    "                myfile.write('\\n'+j['web_url'])\n"
   ]
  },
  {
   "cell_type": "code",
   "execution_count": 6,
   "metadata": {},
   "outputs": [],
   "source": [
    "import json\n",
    "from bs4 import BeautifulSoup \n",
    "import requests "
   ]
  },
  {
   "cell_type": "code",
   "execution_count": 7,
   "metadata": {},
   "outputs": [],
   "source": [
    "records=[]"
   ]
  },
  {
   "cell_type": "code",
   "execution_count": 9,
   "metadata": {},
   "outputs": [],
   "source": [
    "with open('url.txt') as file:\n",
    "    for line in file:\n",
    "        content = \"\"\n",
    "        r = requests.get(line)\n",
    "        soup = BeautifulSoup(r.text, 'html.parser')\n",
    "        results = soup.findAll('p',attrs={'class':'css-1ygdjhk evys1bk0'})\n",
    "        if len(results)<15:\n",
    "            ulimit=len(results)\n",
    "        else:\n",
    "            ulimit=15\n",
    "        for i in range(0,ulimit):\n",
    "            content+=results[i].text\n",
    "        if 'basketball' in content or 'NFA' in content or 'NCAA' in content:\n",
    "            topic='Basketball'\n",
    "        elif 'golf' in content or 'pga tour' in content:\n",
    "            topic='Golf'\n",
    "        elif 'LaLiga' in content or 'bundesliga' in content or 'UEFA' in content or 'Football Premier League' in content or 'football' in content:\n",
    "            topic='Football'\n",
    "        elif 'IPL' in content or 'KFC BIG BASH' in content or 'ICC' in content or 'CPL' in content or 'cricket' in content:\n",
    "            topic='Cricket'\n",
    "        elif 'USTA' in content or 'tennis' in content:\n",
    "            topic='Tennis'\n",
    "        elif 'BWF' in content or 'IBF' in content or 'badminton' in content:\n",
    "            topic='Badminton'\n",
    "        records.append((topic,content))\n"
   ]
  },
  {
   "cell_type": "code",
   "execution_count": 10,
   "metadata": {},
   "outputs": [],
   "source": [
    "with open(\"nydata.txt\", \"w\", encoding=\"utf-8\") as myfile:\n",
    "       for i in range(len(records)):\n",
    "            myfile.write('\\n'+records[i][1])\n"
   ]
  },
  {
   "cell_type": "code",
   "execution_count": 13,
   "metadata": {},
   "outputs": [],
   "source": [
    "import pandas as pd\n",
    "df = pd.DataFrame(records, columns=['topic','content'])\n"
   ]
  },
  {
   "cell_type": "code",
   "execution_count": 14,
   "metadata": {},
   "outputs": [],
   "source": [
    "df.to_csv('output.csv',index = False)"
   ]
  },
  {
   "cell_type": "code",
   "execution_count": 15,
   "metadata": {},
   "outputs": [],
   "source": [
    "ascii_list = []"
   ]
  },
  {
   "cell_type": "code",
   "execution_count": 16,
   "metadata": {},
   "outputs": [],
   "source": [
    "with open('nydata.txt',encoding=\"utf-8\") as file:\n",
    "    for line in file:\n",
    "        ascii_list.append(ascii(line))"
   ]
  },
  {
   "cell_type": "code",
   "execution_count": 17,
   "metadata": {},
   "outputs": [],
   "source": [
    "with open(\"nydata_enc.txt\", \"w\") as myfile:\n",
    "       for i in ascii_list:\n",
    "            myfile.write('\\n'+i)"
   ]
  }
 ],
 "metadata": {
  "kernelspec": {
   "display_name": "Python 3",
   "language": "python",
   "name": "python3"
  },
  "language_info": {
   "codemirror_mode": {
    "name": "ipython",
    "version": 3
   },
   "file_extension": ".py",
   "mimetype": "text/x-python",
   "name": "python",
   "nbconvert_exporter": "python",
   "pygments_lexer": "ipython3",
   "version": "3.7.1"
  }
 },
 "nbformat": 4,
 "nbformat_minor": 2
}
